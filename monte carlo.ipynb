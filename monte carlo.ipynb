{
 "cells": [
  {
   "cell_type": "code",
   "execution_count": 1,
   "metadata": {
    "ExecuteTime": {
     "end_time": "2018-06-18T10:11:58.454174Z",
     "start_time": "2018-06-18T10:11:57.830517Z"
    }
   },
   "outputs": [],
   "source": [
    "import numpy as np\n",
    "import matplotlib.pyplot as plt"
   ]
  },
  {
   "cell_type": "markdown",
   "metadata": {},
   "source": [
    "# model"
   ]
  },
  {
   "cell_type": "markdown",
   "metadata": {},
   "source": [
    "An event has the following property:  \n",
    "initially the probability of success is $p$, then each time we fail the success of probability of next trial increment by $p$, until we success. Upon we succeed, the probability fall to its initial value, say , $p$  \n",
    "**target:** what is the average probability of success for each trial?"
   ]
  },
  {
   "cell_type": "markdown",
   "metadata": {},
   "source": [
    "# simulation"
   ]
  },
  {
   "cell_type": "markdown",
   "metadata": {},
   "source": [
    "first we use monte-carlo simulation to get the approximate value."
   ]
  },
  {
   "cell_type": "code",
   "execution_count": 2,
   "metadata": {
    "ExecuteTime": {
     "end_time": "2018-06-18T10:12:57.520995Z",
     "start_time": "2018-06-18T10:11:58.456180Z"
    }
   },
   "outputs": [
    {
     "name": "stdout",
     "output_type": "stream",
     "text": [
      "p = 0.000000, result = 0.000000\n",
      "p = 0.010000, result = 0.081710\n",
      "p = 0.020000, result = 0.116958\n",
      "p = 0.030000, result = 0.144804\n",
      "p = 0.040000, result = 0.167763\n",
      "p = 0.050000, result = 0.188965\n",
      "p = 0.060000, result = 0.208331\n",
      "p = 0.070000, result = 0.225517\n",
      "p = 0.080000, result = 0.242438\n",
      "p = 0.090000, result = 0.258229\n",
      "p = 0.100000, result = 0.273743\n",
      "p = 0.110000, result = 0.287825\n",
      "p = 0.120000, result = 0.301491\n",
      "p = 0.130000, result = 0.315074\n",
      "p = 0.140000, result = 0.327704\n",
      "p = 0.150000, result = 0.340895\n",
      "p = 0.160000, result = 0.352812\n",
      "p = 0.170000, result = 0.364343\n",
      "p = 0.180000, result = 0.375782\n",
      "p = 0.190000, result = 0.387190\n",
      "p = 0.200000, result = 0.398465\n",
      "p = 0.210000, result = 0.409013\n",
      "p = 0.220000, result = 0.419336\n",
      "p = 0.230000, result = 0.430360\n",
      "p = 0.240000, result = 0.440515\n",
      "p = 0.250000, result = 0.450510\n",
      "p = 0.260000, result = 0.459716\n",
      "p = 0.270000, result = 0.469283\n",
      "p = 0.280000, result = 0.478458\n",
      "p = 0.290000, result = 0.488964\n",
      "p = 0.300000, result = 0.498009\n",
      "p = 0.310000, result = 0.507553\n",
      "p = 0.320000, result = 0.517142\n",
      "p = 0.330000, result = 0.526539\n",
      "p = 0.340000, result = 0.534821\n",
      "p = 0.350000, result = 0.542374\n",
      "p = 0.360000, result = 0.549281\n",
      "p = 0.370000, result = 0.557576\n",
      "p = 0.380000, result = 0.565018\n",
      "p = 0.390000, result = 0.573221\n",
      "p = 0.400000, result = 0.581258\n",
      "p = 0.410000, result = 0.588988\n",
      "p = 0.420000, result = 0.598195\n",
      "p = 0.430000, result = 0.606466\n",
      "p = 0.440000, result = 0.614658\n",
      "p = 0.450000, result = 0.622907\n",
      "p = 0.460000, result = 0.631354\n",
      "p = 0.470000, result = 0.639935\n",
      "p = 0.480000, result = 0.648728\n",
      "p = 0.490000, result = 0.658094\n",
      "p = 0.500000, result = 0.666698\n",
      "p = 0.510000, result = 0.671571\n",
      "p = 0.520000, result = 0.675261\n",
      "p = 0.530000, result = 0.680625\n",
      "p = 0.540000, result = 0.684852\n",
      "p = 0.550000, result = 0.689509\n",
      "p = 0.560000, result = 0.694946\n",
      "p = 0.570000, result = 0.699311\n",
      "p = 0.580000, result = 0.704006\n",
      "p = 0.590000, result = 0.709442\n",
      "p = 0.600000, result = 0.714825\n",
      "p = 0.610000, result = 0.719639\n",
      "p = 0.620000, result = 0.724621\n",
      "p = 0.630000, result = 0.729571\n",
      "p = 0.640000, result = 0.735023\n",
      "p = 0.650000, result = 0.740965\n",
      "p = 0.660000, result = 0.746708\n",
      "p = 0.670000, result = 0.751448\n",
      "p = 0.680000, result = 0.757788\n",
      "p = 0.690000, result = 0.763050\n",
      "p = 0.700000, result = 0.769535\n",
      "p = 0.710000, result = 0.775220\n",
      "p = 0.720000, result = 0.780853\n",
      "p = 0.730000, result = 0.787577\n",
      "p = 0.740000, result = 0.793490\n",
      "p = 0.750000, result = 0.799940\n",
      "p = 0.760000, result = 0.806418\n",
      "p = 0.770000, result = 0.812932\n",
      "p = 0.780000, result = 0.819221\n",
      "p = 0.790000, result = 0.826366\n",
      "p = 0.800000, result = 0.833053\n",
      "p = 0.810000, result = 0.839931\n",
      "p = 0.820000, result = 0.847007\n",
      "p = 0.830000, result = 0.854798\n",
      "p = 0.840000, result = 0.861680\n",
      "p = 0.850000, result = 0.868969\n",
      "p = 0.860000, result = 0.877673\n",
      "p = 0.870000, result = 0.884953\n",
      "p = 0.880000, result = 0.893149\n",
      "p = 0.890000, result = 0.900571\n",
      "p = 0.900000, result = 0.909174\n",
      "p = 0.910000, result = 0.917568\n",
      "p = 0.920000, result = 0.925976\n",
      "p = 0.930000, result = 0.934271\n",
      "p = 0.940000, result = 0.943465\n",
      "p = 0.950000, result = 0.952253\n",
      "p = 0.960000, result = 0.961682\n",
      "p = 0.970000, result = 0.971000\n",
      "p = 0.980000, result = 0.980423\n",
      "p = 0.990000, result = 0.990175\n",
      "p = 1.000000, result = 1.000000\n"
     ]
    }
   ],
   "source": [
    "ps = np.linspace(0.00,1.0,101)\n",
    "simulation = 1000000\n",
    "success = []\n",
    "for p in ps:\n",
    "    cur_p = p\n",
    "    cur_suc = 0\n",
    "    for i in range(simulation):\n",
    "        if np.random.rand()<cur_p:\n",
    "            cur_p = p\n",
    "            cur_suc += 1\n",
    "        else:\n",
    "            cur_p += p\n",
    "    success.append(cur_suc)\n",
    "    print('p = %.6f, result = %.6f'%(p,cur_suc/simulation))"
   ]
  },
  {
   "cell_type": "code",
   "execution_count": 3,
   "metadata": {
    "ExecuteTime": {
     "end_time": "2018-06-18T10:12:57.529016Z",
     "start_time": "2018-06-18T10:12:57.522999Z"
    }
   },
   "outputs": [
    {
     "name": "stdout",
     "output_type": "stream",
     "text": [
      "[0.       0.08171  0.116958 0.144804 0.167763 0.188965 0.208331 0.225517\n",
      " 0.242438 0.258229 0.273743 0.287825 0.301491 0.315074 0.327704 0.340895\n",
      " 0.352812 0.364343 0.375782 0.38719  0.398465 0.409013 0.419336 0.43036\n",
      " 0.440515 0.45051  0.459716 0.469283 0.478458 0.488964 0.498009 0.507553\n",
      " 0.517142 0.526539 0.534821 0.542374 0.549281 0.557576 0.565018 0.573221\n",
      " 0.581258 0.588988 0.598195 0.606466 0.614658 0.622907 0.631354 0.639935\n",
      " 0.648728 0.658094 0.666698 0.671571 0.675261 0.680625 0.684852 0.689509\n",
      " 0.694946 0.699311 0.704006 0.709442 0.714825 0.719639 0.724621 0.729571\n",
      " 0.735023 0.740965 0.746708 0.751448 0.757788 0.76305  0.769535 0.77522\n",
      " 0.780853 0.787577 0.79349  0.79994  0.806418 0.812932 0.819221 0.826366\n",
      " 0.833053 0.839931 0.847007 0.854798 0.86168  0.868969 0.877673 0.884953\n",
      " 0.893149 0.900571 0.909174 0.917568 0.925976 0.934271 0.943465 0.952253\n",
      " 0.961682 0.971    0.980423 0.990175 1.      ]\n"
     ]
    }
   ],
   "source": [
    "results = np.array(success,dtype=np.float32)/simulation\n",
    "print(results)"
   ]
  },
  {
   "cell_type": "code",
   "execution_count": 4,
   "metadata": {
    "ExecuteTime": {
     "end_time": "2018-06-18T10:12:57.621261Z",
     "start_time": "2018-06-18T10:12:57.533028Z"
    },
    "scrolled": true
   },
   "outputs": [
    {
     "data": {
      "image/png": "[encoded data removed]",
      "text/plain": [
       "<Figure size 432x288 with 1 Axes>"
      ]
     },
     "metadata": {},
     "output_type": "display_data"
    }
   ],
   "source": [
    "plt.plot(ps,results,'r-')\n",
    "plt.plot([0,1],[0,1],'b--')\n",
    "plt.show()"
   ]
  },
  {
   "cell_type": "markdown",
   "metadata": {},
   "source": [
    "# inference"
   ]
  },
  {
   "cell_type": "markdown",
   "metadata": {},
   "source": [
    "it would be easier to solve this problem from another angle:\n",
    "let X be the number of trial to succeed for the first time, then its probability mass function is:  \n",
    "$$ p(X=n) = \\left(\\prod_{i=1}^{i=n-1}\\left(1-ip\\right)\\right)np ,n\\le \\lceil\\frac{1}{p}\\rceil$$  \n",
    "assume that $\\mathbf{E}[X] = N$ then the probability of success should be $\\frac{1}{N}$"
   ]
  },
  {
   "cell_type": "markdown",
   "metadata": {},
   "source": [
    "# calculation proof"
   ]
  },
  {
   "cell_type": "code",
   "execution_count": 5,
   "metadata": {
    "ExecuteTime": {
     "end_time": "2018-06-18T10:12:57.640312Z",
     "start_time": "2018-06-18T10:12:57.624281Z"
    },
    "collapsed": true
   },
   "outputs": [
    {
     "name": "stdout",
     "output_type": "stream",
     "text": [
      "100\n",
      "50\n",
      "34\n",
      "25\n",
      "20\n",
      "17\n",
      "15\n",
      "13\n",
      "12\n",
      "10\n",
      "10\n",
      "9\n",
      "8\n",
      "8\n",
      "7\n",
      "7\n",
      "6\n",
      "6\n",
      "6\n",
      "5\n",
      "5\n",
      "5\n",
      "5\n",
      "5\n",
      "4\n",
      "4\n",
      "4\n",
      "4\n",
      "4\n",
      "4\n",
      "4\n",
      "4\n",
      "4\n",
      "3\n",
      "3\n",
      "3\n",
      "3\n",
      "3\n",
      "3\n",
      "3\n",
      "3\n",
      "3\n",
      "3\n",
      "3\n",
      "3\n",
      "3\n",
      "3\n",
      "3\n",
      "3\n",
      "2\n",
      "2\n",
      "2\n",
      "2\n",
      "2\n",
      "2\n",
      "2\n",
      "2\n",
      "2\n",
      "2\n",
      "2\n",
      "2\n",
      "2\n",
      "2\n",
      "2\n",
      "2\n",
      "2\n",
      "2\n",
      "2\n",
      "2\n",
      "2\n",
      "2\n",
      "2\n",
      "2\n",
      "2\n",
      "2\n",
      "2\n",
      "2\n",
      "2\n",
      "2\n",
      "2\n",
      "2\n",
      "2\n",
      "2\n",
      "2\n",
      "2\n",
      "2\n",
      "2\n",
      "2\n",
      "2\n",
      "2\n",
      "2\n",
      "2\n",
      "2\n",
      "2\n",
      "2\n",
      "2\n",
      "2\n",
      "2\n",
      "2\n",
      "1\n",
      "[0, 12.20996063021597, 8.54312703934395, 6.919905032082994, 5.95297910624526, 5.293584586000901, 4.8071771373083765, 4.429398432836956, 4.125083359955473, 3.8731802310725976, 3.6602156799999994, 3.477114143620187, 3.317515996004352, 3.1768204584352, 3.0514984433664, 2.9391475000000002, 2.8373937971200003, 2.745001296, 2.6605616640000003, 2.582564392, 2.5103999999999997, 2.44485944, 2.38313344, 2.32500984, 2.27028224, 2.21875, 2.1733439999999997, 2.129602, 2.087488, 2.0469660000000003, 2.0079999999999996, 1.9705540000000001, 1.9345919999999999, 1.9000779999999997, 1.8712, 1.8449999999999998, 1.8192000000000002, 1.7938, 1.7688, 1.7442000000000002, 1.7199999999999998, 1.6962000000000002, 1.6728, 1.6498000000000002, 1.6272000000000002, 1.6050000000000002, 1.5832000000000002, 1.5618, 1.5408, 1.5202, 1.5, 1.49, 1.48, 1.47, 1.46, 1.45, 1.44, 1.43, 1.42, 1.4100000000000001, 1.4, 1.3900000000000001, 1.38, 1.37, 1.3599999999999999, 1.35, 1.3399999999999999, 1.33, 1.3199999999999998, 1.31, 1.2999999999999998, 1.29, 1.28, 1.27, 1.26, 1.25, 1.24, 1.23, 1.22, 1.21, 1.2, 1.19, 1.18, 1.17, 1.1600000000000001, 1.15, 1.1400000000000001, 1.13, 1.12, 1.1099999999999999, 1.1, 1.0899999999999999, 1.08, 1.0699999999999998, 1.06, 1.0499999999999998, 1.04, 1.03, 1.02, 1.01, 1]\n"
     ]
    }
   ],
   "source": [
    "ex = [0]\n",
    "for p in ps:\n",
    "    if p==0:\n",
    "        continue\n",
    "    num = int(np.ceil(1/p))\n",
    "    print(num)\n",
    "    e = 0\n",
    "    for n in range(1,num+1):\n",
    "        pro = 1\n",
    "        for j in range(1,n):\n",
    "            pro *= (1-j*p)\n",
    "        if n*p < 1:\n",
    "            pro *= n*p\n",
    "        e_ = pro * n\n",
    "        e+=e_\n",
    "    ex.append(e)\n",
    "print(ex)\n",
    "    "
   ]
  },
  {
   "cell_type": "code",
   "execution_count": 12,
   "metadata": {
    "ExecuteTime": {
     "end_time": "2018-06-18T10:13:52.258482Z",
     "start_time": "2018-06-18T10:13:52.176239Z"
    }
   },
   "outputs": [
    {
     "name": "stderr",
     "output_type": "stream",
     "text": [
      "f:\\anaconda\\envs\\tensorflow\\lib\\site-packages\\ipykernel_launcher.py:1: RuntimeWarning: divide by zero encountered in true_divide\n",
      "  \"\"\"Entry point for launching an IPython kernel.\n"
     ]
    },
    {
     "data": {
      "image/png": "[encoded data removed]",
      "text/plain": [
       "<Figure size 432x288 with 1 Axes>"
      ]
     },
     "metadata": {},
     "output_type": "display_data"
    }
   ],
   "source": [
    "result_inf = np.zeros((len(ex)))\n",
    "result_inf[1:] =1/np.array(ex[1:],dtype=np.float32)\n",
    "result_inf[0] = 0\n",
    "plt.plot(ps,result_inf,'r-')\n",
    "plt.plot([0,1],[0,1],'b--')\n",
    "plt.show()"
   ]
  },
  {
   "cell_type": "code",
   "execution_count": 13,
   "metadata": {
    "ExecuteTime": {
     "end_time": "2018-06-18T10:14:01.758109Z",
     "start_time": "2018-06-18T10:14:01.679899Z"
    }
   },
   "outputs": [
    {
     "data": {
      "image/png": "[encoded data removed]",
      "text/plain": [
       "<Figure size 432x288 with 1 Axes>"
      ]
     },
     "metadata": {},
     "output_type": "display_data"
    }
   ],
   "source": [
    "plt.plot(ps,result_inf,'r-')\n",
    "plt.plot(ps,results,'b--')\n",
    "plt.show()"
   ]
  },
  {
   "cell_type": "code",
   "execution_count": 24,
   "metadata": {
    "ExecuteTime": {
     "end_time": "2018-06-18T10:33:19.034001Z",
     "start_time": "2018-06-18T10:33:18.945766Z"
    }
   },
   "outputs": [
    {
     "data": {
      "image/png": "[encoded data removed]",
      "text/plain": [
       "<Figure size 432x288 with 1 Axes>"
      ]
     },
     "metadata": {},
     "output_type": "display_data"
    }
   ],
   "source": [
    "dif = np.abs(results - result_inf)\n",
    "plt.plot(ps,dif,'r-')\n",
    "plt.show()"
   ]
  },
  {
   "cell_type": "code",
   "execution_count": 27,
   "metadata": {
    "ExecuteTime": {
     "end_time": "2018-06-18T10:35:18.979757Z",
     "start_time": "2018-06-18T10:35:18.976762Z"
    }
   },
   "outputs": [
    {
     "name": "stdout",
     "output_type": "stream",
     "text": [
      "0.0023294982121165523\n"
     ]
    }
   ],
   "source": [
    "print(np.max(dif[results!=0]/results[results!=0]))"
   ]
  },
  {
   "cell_type": "markdown",
   "metadata": {},
   "source": [
    "We can see the inference result strongly corresponds to our simulation, which proves that our idea is right"
   ]
  },
  {
   "cell_type": "markdown",
   "metadata": {},
   "source": [
    "# Reverse"
   ]
  },
  {
   "cell_type": "markdown",
   "metadata": {},
   "source": [
    "for we can not get the precise formula for problem, I think once we get the approximate graph, we can use approximate method like linear interpolation to get the solution for the reverse problem."
   ]
  },
  {
   "cell_type": "code",
   "execution_count": 16,
   "metadata": {
    "ExecuteTime": {
     "end_time": "2018-06-18T10:21:49.683338Z",
     "start_time": "2018-06-18T10:21:49.680330Z"
    }
   },
   "outputs": [],
   "source": [
    "def interpolation(x1,y1,x2,y2,x):\n",
    "    return y1 + (x-x1)*(y2-y1)/(x2-x1)\n",
    "\n",
    "def binary_search(arr,start,end,value):\n",
    "    mid = int((start+end)/2)\n",
    "    if arr[mid]<=value and arr[mid+1]>value:\n",
    "        return mid\n",
    "    elif arr[mid] > value:\n",
    "        return binary_search(arr,start,mid,value)\n",
    "    else:\n",
    "        return binary_search(arr,mid+1,end,value)"
   ]
  },
  {
   "cell_type": "code",
   "execution_count": 17,
   "metadata": {
    "ExecuteTime": {
     "end_time": "2018-06-18T10:21:50.564593Z",
     "start_time": "2018-06-18T10:21:50.560557Z"
    }
   },
   "outputs": [
    {
     "name": "stdout",
     "output_type": "stream",
     "text": [
      "0\n",
      "0\n",
      "4\n"
     ]
    }
   ],
   "source": [
    "arr = [1,2,3,4,5,6]\n",
    "print(binary_search(arr,0,5,1))\n",
    "print(binary_search(arr,0,5,1.5))\n",
    "print(binary_search(arr,0,5,5.5))"
   ]
  },
  {
   "cell_type": "code",
   "execution_count": 19,
   "metadata": {
    "ExecuteTime": {
     "end_time": "2018-06-18T10:24:09.907586Z",
     "start_time": "2018-06-18T10:24:09.904579Z"
    }
   },
   "outputs": [],
   "source": [
    "def find_p(xs,ys,prob):\n",
    "    if prob<=0: \n",
    "        return 0\n",
    "    if prob>=1:\n",
    "        return 1\n",
    "    idx = binary_search(xs,0,len(xs)-1,prob)\n",
    "    return interpolation(xs[idx],ys[idx],xs[idx+1],ys[idx+1],prob)"
   ]
  },
  {
   "cell_type": "code",
   "execution_count": 20,
   "metadata": {
    "ExecuteTime": {
     "end_time": "2018-06-18T10:24:12.996819Z",
     "start_time": "2018-06-18T10:24:12.992809Z"
    }
   },
   "outputs": [
    {
     "name": "stdout",
     "output_type": "stream",
     "text": [
      "[0.013993700689769569, 0.03078245500133637, 0.05045215751191671, 0.07031600115407309, 0.0902417299473911, 0.11019535663674014, 0.13016062794946737, 0.15013163127815635, 0.17012828358522278, 0.190098159688116, 0.2100396892665261, 0.23005846666457108, 0.2504143767510933, 0.2699881100677018, 0.29000165015723645, 0.31001597607846415, 0.33072356328881264, 0.34993600849058076, 0.36993888423776544, 0.38994206851447916, 0.40994560853404644, 0.42994954813918734, 0.44995382956373653, 0.46995860924313554, 0.489963838458188, 0.509932780225742, 0.5299319324862996, 0.5499309523809525, 0.5699301023175317, 0.5899290813757146, 0.6099280848932214, 0.6299270072992701, 0.6499259186843506, 0.6699248294693784, 0.6899237492264971, 0.7099224890775556, 0.7299212212390231, 0.7499200044700646, 0.7699187116495269, 0.78991732003473, 0.8099158954622374, 0.8299144971403862, 0.8499130599279572, 0.869911530017009, 0.8899099343875869, 0.9099082653259927, 0.9299064495878596, 0.9499047888138356, 0.9699029439287792, 0.9899009925068016]\n"
     ]
    }
   ],
   "source": [
    "even = result_inf[ np.arange(101)%2==0] \n",
    "odd = result_inf[ np.arange(101)%2!=0]\n",
    "even_p = ps[np.arange(101)%2==0]\n",
    "odd_p = ps[ np.arange(101)%2!=0]\n",
    "cal = []\n",
    "for prob in odd:\n",
    "    cal.append(find_p(even,even_p,prob))\n",
    "print(cal)"
   ]
  },
  {
   "cell_type": "code",
   "execution_count": 21,
   "metadata": {
    "ExecuteTime": {
     "end_time": "2018-06-18T10:26:06.480615Z",
     "start_time": "2018-06-18T10:26:06.400401Z"
    }
   },
   "outputs": [
    {
     "data": {
      "image/png": "[encoded data removed]",
      "text/plain": [
       "<Figure size 432x288 with 1 Axes>"
      ]
     },
     "metadata": {},
     "output_type": "display_data"
    }
   ],
   "source": [
    "plt.plot(odd,cal,'r-')\n",
    "plt.plot(odd,odd_p,'b--')\n",
    "plt.show()"
   ]
  },
  {
   "cell_type": "code",
   "execution_count": 30,
   "metadata": {
    "ExecuteTime": {
     "end_time": "2018-06-18T10:37:59.622096Z",
     "start_time": "2018-06-18T10:37:59.618113Z"
    }
   },
   "outputs": [
    {
     "name": "stdout",
     "output_type": "stream",
     "text": [
      "[3.99370069e-03 7.82455001e-04 4.52157512e-04 3.16001154e-04\n",
      " 2.41729947e-04 1.95356637e-04 1.60627949e-04 1.31631278e-04\n",
      " 1.28283585e-04 9.81596881e-05 3.96892665e-05 5.84666646e-05\n",
      " 4.14376751e-04 1.18899323e-05 1.65015724e-06 1.59760785e-05\n",
      " 7.23563289e-04 6.39915094e-05 6.11157622e-05 5.79314855e-05\n",
      " 5.43914660e-05 5.04518608e-05 4.61704363e-05 4.13907569e-05\n",
      " 3.61615418e-05 6.72197743e-05 6.80675137e-05 6.90476190e-05\n",
      " 6.98976825e-05 7.09186243e-05 7.19151068e-05 7.29927007e-05\n",
      " 7.40813156e-05 7.51705306e-05 7.62507735e-05 7.75109224e-05\n",
      " 7.87787610e-05 7.99955299e-05 8.12883505e-05 8.26799653e-05\n",
      " 8.41045378e-05 8.55028596e-05 8.69400720e-05 8.84699830e-05\n",
      " 9.00656124e-05 9.17346740e-05 9.35504121e-05 9.52111862e-05\n",
      " 9.70560712e-05 9.90074932e-05]\n",
      "0.003993700689769569\n",
      "0.39937006897695687\n"
     ]
    }
   ],
   "source": [
    "cal = np.array(cal)\n",
    "diff = np.abs(cal-odd_p)\n",
    "relativ_diff = diff/odd_p\n",
    "\n",
    "print(diff)\n",
    "print(np.max(diff))\n",
    "print(np.max(relativ_diff))"
   ]
  },
  {
   "cell_type": "code",
   "execution_count": null,
   "metadata": {},
   "outputs": [],
   "source": []
  }
 ],
 "metadata": {
  "kernelspec": {
   "display_name": "Python 3",
   "language": "python",
   "name": "python3"
  },
  "language_info": {
   "codemirror_mode": {
    "name": "ipython",
    "version": 3
   },
   "file_extension": ".py",
   "mimetype": "text/x-python",
   "name": "python",
   "nbconvert_exporter": "python",
   "pygments_lexer": "ipython3",
   "version": "3.6.5"
  },
  "latex_envs": {
   "LaTeX_envs_menu_present": true,
   "autoclose": false,
   "autocomplete": true,
   "bibliofile": "biblio.bib",
   "cite_by": "apalike",
   "current_citInitial": 1,
   "eqLabelWithNumbers": true,
   "eqNumInitial": 1,
   "hotkeys": {
    "equation": "Ctrl-E",
    "itemize": "Ctrl-I"
   },
   "labels_anchors": false,
   "latex_user_defs": false,
   "report_style_numbering": false,
   "user_envs_cfg": false
  },
  "toc": {
   "base_numbering": 1,
   "nav_menu": {},
   "number_sections": true,
   "sideBar": true,
   "skip_h1_title": false,
   "title_cell": "Table of Contents",
   "title_sidebar": "Contents",
   "toc_cell": false,
   "toc_position": {},
   "toc_section_display": true,
   "toc_window_display": false
  },
  "varInspector": {
   "cols": {
    "lenName": 16,
    "lenType": 16,
    "lenVar": 40
   },
   "kernels_config": {
    "python": {
     "delete_cmd_postfix": "",
     "delete_cmd_prefix": "del ",
     "library": "var_list.py",
     "varRefreshCmd": "print(var_dic_list())"
    },
    "r": {
     "delete_cmd_postfix": ") ",
     "delete_cmd_prefix": "rm(",
     "library": "var_list.r",
     "varRefreshCmd": "cat(var_dic_list()) "
    }
   },
   "types_to_exclude": [
    "module",
    "function",
    "builtin_function_or_method",
    "instance",
    "_Feature"
   ],
   "window_display": false
  }
 },
 "nbformat": 4,
 "nbformat_minor": 2
}
